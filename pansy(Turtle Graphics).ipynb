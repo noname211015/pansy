{
 "cells": [
  {
   "cell_type": "code",
   "execution_count": 1,
   "id": "cdd3a5c5",
   "metadata": {},
   "outputs": [],
   "source": [
    "import turtle\n",
    "\n",
    "turtle.speed(0)\n",
    "length = 10\n",
    "n = 30\n",
    "\n",
    "for _ in range(5):\n",
    "    turtle.left(70)\n",
    "\n",
    "    for _ in range(n):\n",
    "        turtle.color(\"cornsilk\")\n",
    "        turtle.forward(length)\n",
    "        turtle.left(360 / n)\n",
    "        \n",
    "    for _ in range(n):\n",
    "        turtle.color(\"bisque\")\n",
    "        turtle.forward(length + 5)\n",
    "        turtle.left(360 / n)\n",
    "        \n",
    "    for _ in range(n):\n",
    "        turtle.color(\"gold\")\n",
    "        turtle.forward(length + 10)\n",
    "        turtle.left(360 / n)\n",
    "        \n",
    "    for _ in range(n):\n",
    "        turtle.color(\"yellow\")\n",
    "        turtle.forward(length + 15)\n",
    "        turtle.left(360 / n)\n",
    "        \n",
    "    for _ in range(n):\n",
    "        turtle.color(\"orange\")\n",
    "        turtle.forward(length + 20)\n",
    "        turtle.left(360 / n)"
   ]
  },
  {
   "cell_type": "code",
   "execution_count": null,
   "id": "837836a3",
   "metadata": {},
   "outputs": [],
   "source": []
  }
 ],
 "metadata": {
  "kernelspec": {
   "display_name": "Python 3",
   "language": "python",
   "name": "python3"
  },
  "language_info": {
   "codemirror_mode": {
    "name": "ipython",
    "version": 3
   },
   "file_extension": ".py",
   "mimetype": "text/x-python",
   "name": "python",
   "nbconvert_exporter": "python",
   "pygments_lexer": "ipython3",
   "version": "3.8.8"
  }
 },
 "nbformat": 4,
 "nbformat_minor": 5
}
